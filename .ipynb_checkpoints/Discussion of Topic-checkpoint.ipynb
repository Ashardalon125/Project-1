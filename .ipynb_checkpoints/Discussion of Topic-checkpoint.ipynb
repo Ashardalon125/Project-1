{
 "cells": [
  {
   "cell_type": "markdown",
   "metadata": {},
   "source": [
    "# Introduction"
   ]
  },
  {
   "cell_type": "markdown",
   "metadata": {},
   "source": [
    "Euler's Method produces a format by which Ordinary Differential Equations (ODE's) can be solved, so long as an initial condition is known. By taking appropriate steps and understanding it is an approximation, it can be used to model a system, such as radioactive decay."
   ]
  },
  {
   "cell_type": "markdown",
   "metadata": {},
   "source": [
    "In chemistry, the shape of molecules is dictated by several rules. These dictate the number of bonds between atoms, as well as the placement of free electrons. However, in some situations, like with Benzene, there are several equally valid representations. In this instance, these equivalent structures are called \"resonant structures.\"\n",
    "<img src='Benzene Resonance Example.png'>"
   ]
  },
  {
   "cell_type": "markdown",
   "metadata": {},
   "source": [
    "However, this is according the standard view of chemical bonds. In reality, the actual Benzene molecule does not resemble either of these structures, and is instead a fusion between the two, referred to as the \"resonance hybrid.\" Notably, according to Valence-Bond Theory (VB Theory), these two structures must satisfy the quantum symmetry of its waveform. In most instances of having a single molecule with multiple potential formats, the formats are all equivalent, and thus, equally possible. This can be seen below with the VB representation of Benzene:\n",
    "<img src='MO Benzene.png'>"
   ]
  },
  {
   "cell_type": "markdown",
   "metadata": {},
   "source": [
    "By using this definition, then the resonance hybrid can be represented as the weighted sum of the individual stuctures. Thus, if by some chemical or physical situation, one structure is preferred over the other, then the behaviour of the hybrid can be appropriately calculated. Further, the weighted waveform version allows the populations to be scaled, so long as the weights are treated appropriately."
   ]
  },
  {
   "cell_type": "markdown",
   "metadata": {
    "collapsed": true
   },
   "source": [
    "# Coding"
   ]
  },
  {
   "cell_type": "markdown",
   "metadata": {},
   "source": [
    "The first thing that was done was apply the Euler Equation to the given equation of the system:\n",
    "\n",
    "<a href=\"https://www.codecogs.com/eqnedit.php?latex=\\frac{dN_A}{dt}&space;=&space;\\frac{N_B}{\\tau&space;}&space;-&space;\\frac{N_A}{\\tau}\" target=\"_blank\"><img src=\"https://latex.codecogs.com/png.latex?\\frac{dN_A}{dt}&space;=&space;\\frac{N_B}{\\tau&space;}&space;-&space;\\frac{N_A}{\\tau}\" title=\"\\frac{dN_A}{dt} = \\frac{N_B}{\\tau } - \\frac{N_A}{\\tau}\" /></a>\n",
    "\n",
    "<a href=\"https://www.codecogs.com/eqnedit.php?latex=\\frac{dN_B}{dt}&space;=&space;\\frac{N_A}{\\tau&space;}&space;-&space;\\frac{N_B}{\\tau}\" target=\"_blank\"><img src=\"https://latex.codecogs.com/png.latex?\\frac{dN_B}{dt}&space;=&space;\\frac{N_A}{\\tau&space;}&space;-&space;\\frac{N_B}{\\tau}\" title=\"\\frac{dN_B}{dt} = \\frac{N_A}{\\tau } - \\frac{N_B}{\\tau}\" /></a>\n",
    "\n",
    "This yielded a pair of equations that were very similar to a previous problem in which nuclear decay was modelled and one nuclei decayed into another. In this particular instance, the two molecules could \"decay\" into each other. Thus, the code was largely recycled to yield:\n",
    "\n",
    "<a href=\"https://www.codecogs.com/eqnedit.php?latex=NPop_A=&space;CPop_A&space;-&space;(\\Delta&space;t&space;*&space;decay_A&space;*&space;CPop_A)&space;&plus;&space;(\\Delta&space;t&space;*&space;decay_B&space;*&space;CPop_B)\" target=\"_blank\"><img src=\"https://latex.codecogs.com/gif.latex?NPop_A=&space;CPop_A&space;-&space;(\\Delta&space;t&space;*&space;decay_A&space;*&space;CPop_A)&space;&plus;&space;(\\Delta&space;t&space;*&space;decay_B&space;*&space;CPop_B)\" title=\"NPop_A= CPop_A - (\\Delta t * decay_A * CPop_A) + (\\Delta t * decay_B * CPop_B)\" /></a>\n",
    "\n",
    "Where NPop is the new population, and CPop is the previous population. Population A is the nuclei being calculated, while Population B is the other potential nuclei. This function was done iteratively over a period of time, and graphed."
   ]
  },
  {
   "cell_type": "markdown",
   "metadata": {},
   "source": [
    "# Results"
   ]
  },
  {
   "cell_type": "markdown",
   "metadata": {},
   "source": [
    "By testing a variety of combinations of factors, I was able to produce a few different graphs, with some clear trends. In this instance, I tested a situation in which the decays were equal, but with varying initial populations.\n",
    "<img src='SD POPA G POPB.png'> <img src='SD POPA E POPB.png'> <img src='SD POPB G POPA.png'>"
   ]
  },
  {
   "cell_type": "markdown",
   "metadata": {},
   "source": [
    "Then, I began testing what happened when they had the same initial population, and with different decays.\n",
    "<img src='DA G DB SP.png'> <img src='DB G DA SP.png'>"
   ]
  },
  {
   "cell_type": "markdown",
   "metadata": {},
   "source": [
    "For comparison purposes, I also tested what happened when both populations had the same decay rate, but one population had only a single molecule, while the other had none.\n",
    "<img src='SD 1P.png'>\n",
    "\n",
    "Notably, the result the two settle to is 0.5, which is not an observable result. Instead, it is similar to the splitting of light into orthogonal bases. The average is zero, but one will only observe +1 or -1 counts."
   ]
  },
  {
   "cell_type": "markdown",
   "metadata": {},
   "source": [
    "# Analysis"
   ]
  },
  {
   "cell_type": "markdown",
   "metadata": {},
   "source": [
    "From this, it can be observed that when the two structures are equal (same decay), they settle to the average between them. However, when the decay rates were not equal, and one state was preferred over the other, they split, though neither population disappeared with the low rates of decay. Even in the instance of a single molecule, it \"split\" itself over its potential, equal structures. "
   ]
  },
  {
   "cell_type": "markdown",
   "metadata": {},
   "source": [
    "# Scientific Summary"
   ]
  },
  {
   "cell_type": "markdown",
   "metadata": {},
   "source": [
    "This project set out to try and find a way of modelling the resonance hybrid of a system given information about its weighting and the amounts of each form. The models showed that the populations eventually stabilized, and the average between the two could be taken to represent the resonance hybrid. When both populations are equally preferred, they meet at the average, while populations with different weightings yielded an average that lay between their two asymptotes."
   ]
  },
  {
   "cell_type": "code",
   "execution_count": null,
   "metadata": {
    "collapsed": true
   },
   "outputs": [],
   "source": []
  }
 ],
 "metadata": {
  "kernelspec": {
   "display_name": "Python 3",
   "language": "python",
   "name": "python3"
  },
  "language_info": {
   "codemirror_mode": {
    "name": "ipython",
    "version": 3
   },
   "file_extension": ".py",
   "mimetype": "text/x-python",
   "name": "python",
   "nbconvert_exporter": "python",
   "pygments_lexer": "ipython3",
   "version": "3.4.5"
  }
 },
 "nbformat": 4,
 "nbformat_minor": 1
}
